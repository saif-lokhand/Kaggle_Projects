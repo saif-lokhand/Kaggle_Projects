{
 "cells": [
  {
   "cell_type": "markdown",
   "id": "9d410ab3",
   "metadata": {
    "papermill": {
     "duration": 0.039082,
     "end_time": "2022-03-04T11:12:22.834412",
     "exception": false,
     "start_time": "2022-03-04T11:12:22.795330",
     "status": "completed"
    },
    "tags": []
   },
   "source": [
    "**Welcome to my Notebook**"
   ]
  },
  {
   "cell_type": "code",
   "execution_count": 1,
   "id": "ab9bea3d",
   "metadata": {
    "_cell_guid": "b1076dfc-b9ad-4769-8c92-a6c4dae69d19",
    "_uuid": "8f2839f25d086af736a60e9eeb907d3b93b6e0e5",
    "execution": {
     "iopub.execute_input": "2022-03-04T11:12:22.924276Z",
     "iopub.status.busy": "2022-03-04T11:12:22.923565Z",
     "iopub.status.idle": "2022-03-04T11:12:22.936206Z",
     "shell.execute_reply": "2022-03-04T11:12:22.935334Z",
     "shell.execute_reply.started": "2022-03-04T11:09:30.595643Z"
    },
    "papermill": {
     "duration": 0.062136,
     "end_time": "2022-03-04T11:12:22.936404",
     "exception": false,
     "start_time": "2022-03-04T11:12:22.874268",
     "status": "completed"
    },
    "tags": []
   },
   "outputs": [
    {
     "name": "stdout",
     "output_type": "stream",
     "text": [
      "/kaggle/input/indian-startup-boom/Indian Startup.csv\n"
     ]
    }
   ],
   "source": [
    "import numpy as np # linear algebra\n",
    "import pandas as pd # data processing, CSV file I/O (e.g. pd.read_csv)\n",
    "import os\n",
    "for dirname, _, filenames in os.walk('/kaggle/input'):\n",
    "    for filename in filenames:\n",
    "        print(os.path.join(dirname, filename))"
   ]
  },
  {
   "cell_type": "markdown",
   "id": "f74ca60b",
   "metadata": {
    "papermill": {
     "duration": 0.037483,
     "end_time": "2022-03-04T11:12:23.012864",
     "exception": false,
     "start_time": "2022-03-04T11:12:22.975381",
     "status": "completed"
    },
    "tags": []
   },
   "source": [
    "# **Import Helpful Libraies**"
   ]
  },
  {
   "cell_type": "code",
   "execution_count": 2,
   "id": "dd9337e8",
   "metadata": {
    "execution": {
     "iopub.execute_input": "2022-03-04T11:12:23.100860Z",
     "iopub.status.busy": "2022-03-04T11:12:23.100094Z",
     "iopub.status.idle": "2022-03-04T11:12:24.342099Z",
     "shell.execute_reply": "2022-03-04T11:12:24.342713Z",
     "shell.execute_reply.started": "2022-03-04T11:09:30.607227Z"
    },
    "papermill": {
     "duration": 1.289019,
     "end_time": "2022-03-04T11:12:24.342969",
     "exception": false,
     "start_time": "2022-03-04T11:12:23.053950",
     "status": "completed"
    },
    "tags": []
   },
   "outputs": [],
   "source": [
    "import numpy as np\n",
    "import pandas as pd\n",
    "import matplotlib.pyplot as plt\n",
    "import seaborn as sns\n",
    "import warnings\n",
    "warnings.filterwarnings(\"ignore\")\n",
    "%matplotlib inline"
   ]
  },
  {
   "cell_type": "markdown",
   "id": "586dcd67",
   "metadata": {
    "papermill": {
     "duration": 0.038693,
     "end_time": "2022-03-04T11:12:24.420670",
     "exception": false,
     "start_time": "2022-03-04T11:12:24.381977",
     "status": "completed"
    },
    "tags": []
   },
   "source": [
    "# **Import Data Set**"
   ]
  },
  {
   "cell_type": "code",
   "execution_count": 3,
   "id": "dec2caaa",
   "metadata": {
    "execution": {
     "iopub.execute_input": "2022-03-04T11:12:24.505283Z",
     "iopub.status.busy": "2022-03-04T11:12:24.504448Z",
     "iopub.status.idle": "2022-03-04T11:12:24.559491Z",
     "shell.execute_reply": "2022-03-04T11:12:24.560133Z",
     "shell.execute_reply.started": "2022-03-04T11:09:30.616972Z"
    },
    "papermill": {
     "duration": 0.100823,
     "end_time": "2022-03-04T11:12:24.560343",
     "exception": false,
     "start_time": "2022-03-04T11:12:24.459520",
     "status": "completed"
    },
    "tags": []
   },
   "outputs": [
    {
     "data": {
      "text/html": [
       "<div>\n",
       "<style scoped>\n",
       "    .dataframe tbody tr th:only-of-type {\n",
       "        vertical-align: middle;\n",
       "    }\n",
       "\n",
       "    .dataframe tbody tr th {\n",
       "        vertical-align: top;\n",
       "    }\n",
       "\n",
       "    .dataframe thead th {\n",
       "        text-align: right;\n",
       "    }\n",
       "</style>\n",
       "<table border=\"1\" class=\"dataframe\">\n",
       "  <thead>\n",
       "    <tr style=\"text-align: right;\">\n",
       "      <th></th>\n",
       "      <th>Company/Brand</th>\n",
       "      <th>Founded</th>\n",
       "      <th>Headquarters</th>\n",
       "      <th>Sector</th>\n",
       "      <th>What it does</th>\n",
       "      <th>Founder/s</th>\n",
       "      <th>Investor/s</th>\n",
       "      <th>Amount</th>\n",
       "      <th>Stage</th>\n",
       "      <th>Date</th>\n",
       "    </tr>\n",
       "  </thead>\n",
       "  <tbody>\n",
       "    <tr>\n",
       "      <th>0</th>\n",
       "      <td>CollegeDekho</td>\n",
       "      <td>2015.0</td>\n",
       "      <td>Gurgaon</td>\n",
       "      <td>E-learning</td>\n",
       "      <td>Collegedekho.com is Student’s Partner, Friend ...</td>\n",
       "      <td>Ruchir Arora</td>\n",
       "      <td>Disrupt ADQ, QIC</td>\n",
       "      <td>$35,000,000</td>\n",
       "      <td>Series B</td>\n",
       "      <td>Dec-2021</td>\n",
       "    </tr>\n",
       "    <tr>\n",
       "      <th>1</th>\n",
       "      <td>BOX8</td>\n",
       "      <td>2012.0</td>\n",
       "      <td>Mumbai</td>\n",
       "      <td>Food &amp; Beverages</td>\n",
       "      <td>India's Largest Desi Meals Brand</td>\n",
       "      <td>Anshul Gupta, Amit Raj</td>\n",
       "      <td>Tiger Global</td>\n",
       "      <td>$40,000,000</td>\n",
       "      <td>NaN</td>\n",
       "      <td>Dec-2021</td>\n",
       "    </tr>\n",
       "    <tr>\n",
       "      <th>2</th>\n",
       "      <td>Simpl</td>\n",
       "      <td>2015.0</td>\n",
       "      <td>Bangalore</td>\n",
       "      <td>Consumer Services</td>\n",
       "      <td>Simpl empowers merchants to build trusted rela...</td>\n",
       "      <td>Nitya, Chaitra Chidanand</td>\n",
       "      <td>Valar Ventures, IA Ventures</td>\n",
       "      <td>$40,000,000</td>\n",
       "      <td>Series B</td>\n",
       "      <td>Dec-2021</td>\n",
       "    </tr>\n",
       "    <tr>\n",
       "      <th>3</th>\n",
       "      <td>8i Ventures</td>\n",
       "      <td>2018.0</td>\n",
       "      <td>Mumbai</td>\n",
       "      <td>Venture Capital &amp; Private Equity</td>\n",
       "      <td>8i is a Mumbai &amp; Bangalore based early stage f...</td>\n",
       "      <td>Vikram Chachra</td>\n",
       "      <td>NaN</td>\n",
       "      <td>$50,000,000</td>\n",
       "      <td>NaN</td>\n",
       "      <td>Dec-2021</td>\n",
       "    </tr>\n",
       "    <tr>\n",
       "      <th>4</th>\n",
       "      <td>PayGlocal</td>\n",
       "      <td>2021.0</td>\n",
       "      <td>Bangalore</td>\n",
       "      <td>Financial Services</td>\n",
       "      <td>PayGlocal is a FinTech solving for global paym...</td>\n",
       "      <td>Prachi Dharani, Rohit Sukhija, Yogesh Lokhande</td>\n",
       "      <td>Sequoia Capital India</td>\n",
       "      <td>$4,900,000</td>\n",
       "      <td>Series A</td>\n",
       "      <td>Dec-2021</td>\n",
       "    </tr>\n",
       "  </tbody>\n",
       "</table>\n",
       "</div>"
      ],
      "text/plain": [
       "  Company/Brand  Founded Headquarters                            Sector  \\\n",
       "0  CollegeDekho   2015.0      Gurgaon                        E-learning   \n",
       "1          BOX8   2012.0       Mumbai                  Food & Beverages   \n",
       "2         Simpl   2015.0    Bangalore                 Consumer Services   \n",
       "3   8i Ventures   2018.0       Mumbai  Venture Capital & Private Equity   \n",
       "4     PayGlocal   2021.0    Bangalore                Financial Services   \n",
       "\n",
       "                                        What it does  \\\n",
       "0  Collegedekho.com is Student’s Partner, Friend ...   \n",
       "1                   India's Largest Desi Meals Brand   \n",
       "2  Simpl empowers merchants to build trusted rela...   \n",
       "3  8i is a Mumbai & Bangalore based early stage f...   \n",
       "4  PayGlocal is a FinTech solving for global paym...   \n",
       "\n",
       "                                        Founder/s  \\\n",
       "0                                    Ruchir Arora   \n",
       "1                          Anshul Gupta, Amit Raj   \n",
       "2                        Nitya, Chaitra Chidanand   \n",
       "3                                  Vikram Chachra   \n",
       "4  Prachi Dharani, Rohit Sukhija, Yogesh Lokhande   \n",
       "\n",
       "                    Investor/s       Amount     Stage     Date   \n",
       "0             Disrupt ADQ, QIC  $35,000,000  Series B  Dec-2021  \n",
       "1                 Tiger Global  $40,000,000       NaN  Dec-2021  \n",
       "2  Valar Ventures, IA Ventures  $40,000,000  Series B  Dec-2021  \n",
       "3                          NaN  $50,000,000       NaN  Dec-2021  \n",
       "4        Sequoia Capital India   $4,900,000  Series A  Dec-2021  "
      ]
     },
     "execution_count": 3,
     "metadata": {},
     "output_type": "execute_result"
    }
   ],
   "source": [
    "df = pd.read_csv(\"/kaggle/input/indian-startup-boom/Indian Startup.csv\")\n",
    "df.head()"
   ]
  },
  {
   "cell_type": "markdown",
   "id": "35cfa5fd",
   "metadata": {
    "papermill": {
     "duration": 0.039347,
     "end_time": "2022-03-04T11:12:24.639181",
     "exception": false,
     "start_time": "2022-03-04T11:12:24.599834",
     "status": "completed"
    },
    "tags": []
   },
   "source": [
    "# **Explore DataSet**"
   ]
  },
  {
   "cell_type": "code",
   "execution_count": 4,
   "id": "3fbd3961",
   "metadata": {
    "execution": {
     "iopub.execute_input": "2022-03-04T11:12:24.723991Z",
     "iopub.status.busy": "2022-03-04T11:12:24.723158Z",
     "iopub.status.idle": "2022-03-04T11:12:24.726275Z",
     "shell.execute_reply": "2022-03-04T11:12:24.726808Z",
     "shell.execute_reply.started": "2022-03-04T11:09:30.654922Z"
    },
    "papermill": {
     "duration": 0.048876,
     "end_time": "2022-03-04T11:12:24.727013",
     "exception": false,
     "start_time": "2022-03-04T11:12:24.678137",
     "status": "completed"
    },
    "tags": []
   },
   "outputs": [
    {
     "data": {
      "text/plain": [
       "(1209, 10)"
      ]
     },
     "execution_count": 4,
     "metadata": {},
     "output_type": "execute_result"
    }
   ],
   "source": [
    "df.shape"
   ]
  },
  {
   "cell_type": "code",
   "execution_count": 5,
   "id": "6ab21961",
   "metadata": {
    "execution": {
     "iopub.execute_input": "2022-03-04T11:12:24.816887Z",
     "iopub.status.busy": "2022-03-04T11:12:24.816041Z",
     "iopub.status.idle": "2022-03-04T11:12:24.839390Z",
     "shell.execute_reply": "2022-03-04T11:12:24.840461Z",
     "shell.execute_reply.started": "2022-03-04T11:09:30.663748Z"
    },
    "papermill": {
     "duration": 0.074435,
     "end_time": "2022-03-04T11:12:24.840871",
     "exception": false,
     "start_time": "2022-03-04T11:12:24.766436",
     "status": "completed"
    },
    "tags": []
   },
   "outputs": [
    {
     "name": "stdout",
     "output_type": "stream",
     "text": [
      "<class 'pandas.core.frame.DataFrame'>\n",
      "RangeIndex: 1209 entries, 0 to 1208\n",
      "Data columns (total 10 columns):\n",
      " #   Column         Non-Null Count  Dtype  \n",
      "---  ------         --------------  -----  \n",
      " 0   Company/Brand  1209 non-null   object \n",
      " 1   Founded        1208 non-null   float64\n",
      " 2   Headquarters   1208 non-null   object \n",
      " 3   Sector         1209 non-null   object \n",
      " 4   What it does   1209 non-null   object \n",
      " 5   Founder/s      1205 non-null   object \n",
      " 6   Investor/s     1147 non-null   object \n",
      " 7   Amount         1206 non-null   object \n",
      " 8   Stage          781 non-null    object \n",
      " 9   Date           1209 non-null   object \n",
      "dtypes: float64(1), object(9)\n",
      "memory usage: 94.6+ KB\n"
     ]
    }
   ],
   "source": [
    "df.info()"
   ]
  },
  {
   "cell_type": "code",
   "execution_count": 6,
   "id": "cb58730a",
   "metadata": {
    "execution": {
     "iopub.execute_input": "2022-03-04T11:12:24.927269Z",
     "iopub.status.busy": "2022-03-04T11:12:24.926412Z",
     "iopub.status.idle": "2022-03-04T11:12:24.937198Z",
     "shell.execute_reply": "2022-03-04T11:12:24.937749Z",
     "shell.execute_reply.started": "2022-03-04T11:09:30.696688Z"
    },
    "papermill": {
     "duration": 0.055413,
     "end_time": "2022-03-04T11:12:24.937973",
     "exception": false,
     "start_time": "2022-03-04T11:12:24.882560",
     "status": "completed"
    },
    "tags": []
   },
   "outputs": [
    {
     "data": {
      "text/plain": [
       "Company/Brand      0\n",
       "Founded            1\n",
       "Headquarters       1\n",
       "Sector             0\n",
       "What it does       0\n",
       "Founder/s          4\n",
       "Investor/s        62\n",
       "Amount             3\n",
       "Stage            428\n",
       "Date               0\n",
       "dtype: int64"
      ]
     },
     "execution_count": 6,
     "metadata": {},
     "output_type": "execute_result"
    }
   ],
   "source": [
    "df.isnull().sum()"
   ]
  },
  {
   "cell_type": "code",
   "execution_count": 7,
   "id": "752e240e",
   "metadata": {
    "execution": {
     "iopub.execute_input": "2022-03-04T11:12:25.022464Z",
     "iopub.status.busy": "2022-03-04T11:12:25.021794Z",
     "iopub.status.idle": "2022-03-04T11:12:25.036146Z",
     "shell.execute_reply": "2022-03-04T11:12:25.036727Z",
     "shell.execute_reply.started": "2022-03-04T11:09:30.713835Z"
    },
    "papermill": {
     "duration": 0.058369,
     "end_time": "2022-03-04T11:12:25.036939",
     "exception": false,
     "start_time": "2022-03-04T11:12:24.978570",
     "status": "completed"
    },
    "tags": []
   },
   "outputs": [
    {
     "name": "stdout",
     "output_type": "stream",
     "text": [
      "Company/Brand have 1033 values: CollegeDekho\n",
      "Founded have 30 values: 2015.0\n",
      "Headquarters have 70 values: Gurgaon\n",
      "Sector have 256 values: E-learning\n",
      "What it does have 1143 values: Collegedekho.com is Student’s Partner, Friend & Confidante, To Help Him Take a Decision and Move On to His Career Goals\n",
      "Founder/s have 1096 values: Ruchir Arora\n",
      "Investor/s have 938 values: Disrupt ADQ, QIC\n",
      "Amount have 208 values: $35,000,000\n",
      "Stage have 33 values: Series B\n",
      "Date  have 12 values: Dec-2021\n"
     ]
    }
   ],
   "source": [
    "for col in df.columns:\n",
    "    print(\"{} have {} values: {}\".format(col, df[col].nunique(), df[col][0]))"
   ]
  },
  {
   "cell_type": "code",
   "execution_count": 8,
   "id": "f3e7978f",
   "metadata": {
    "execution": {
     "iopub.execute_input": "2022-03-04T11:12:25.123888Z",
     "iopub.status.busy": "2022-03-04T11:12:25.123159Z",
     "iopub.status.idle": "2022-03-04T11:12:25.140944Z",
     "shell.execute_reply": "2022-03-04T11:12:25.141474Z",
     "shell.execute_reply.started": "2022-03-04T11:09:30.733855Z"
    },
    "papermill": {
     "duration": 0.061988,
     "end_time": "2022-03-04T11:12:25.141695",
     "exception": false,
     "start_time": "2022-03-04T11:12:25.079707",
     "status": "completed"
    },
    "tags": []
   },
   "outputs": [
    {
     "data": {
      "text/html": [
       "<div>\n",
       "<style scoped>\n",
       "    .dataframe tbody tr th:only-of-type {\n",
       "        vertical-align: middle;\n",
       "    }\n",
       "\n",
       "    .dataframe tbody tr th {\n",
       "        vertical-align: top;\n",
       "    }\n",
       "\n",
       "    .dataframe thead th {\n",
       "        text-align: right;\n",
       "    }\n",
       "</style>\n",
       "<table border=\"1\" class=\"dataframe\">\n",
       "  <thead>\n",
       "    <tr style=\"text-align: right;\">\n",
       "      <th></th>\n",
       "      <th>Founded</th>\n",
       "    </tr>\n",
       "  </thead>\n",
       "  <tbody>\n",
       "    <tr>\n",
       "      <th>count</th>\n",
       "      <td>1208.000000</td>\n",
       "    </tr>\n",
       "    <tr>\n",
       "      <th>mean</th>\n",
       "      <td>2016.655629</td>\n",
       "    </tr>\n",
       "    <tr>\n",
       "      <th>std</th>\n",
       "      <td>4.517364</td>\n",
       "    </tr>\n",
       "    <tr>\n",
       "      <th>min</th>\n",
       "      <td>1963.000000</td>\n",
       "    </tr>\n",
       "    <tr>\n",
       "      <th>25%</th>\n",
       "      <td>2015.000000</td>\n",
       "    </tr>\n",
       "    <tr>\n",
       "      <th>50%</th>\n",
       "      <td>2018.000000</td>\n",
       "    </tr>\n",
       "    <tr>\n",
       "      <th>75%</th>\n",
       "      <td>2020.000000</td>\n",
       "    </tr>\n",
       "    <tr>\n",
       "      <th>max</th>\n",
       "      <td>2021.000000</td>\n",
       "    </tr>\n",
       "  </tbody>\n",
       "</table>\n",
       "</div>"
      ],
      "text/plain": [
       "           Founded\n",
       "count  1208.000000\n",
       "mean   2016.655629\n",
       "std       4.517364\n",
       "min    1963.000000\n",
       "25%    2015.000000\n",
       "50%    2018.000000\n",
       "75%    2020.000000\n",
       "max    2021.000000"
      ]
     },
     "execution_count": 8,
     "metadata": {},
     "output_type": "execute_result"
    }
   ],
   "source": [
    "df.describe()"
   ]
  },
  {
   "cell_type": "markdown",
   "id": "4c661869",
   "metadata": {
    "papermill": {
     "duration": 0.040263,
     "end_time": "2022-03-04T11:12:25.222865",
     "exception": false,
     "start_time": "2022-03-04T11:12:25.182602",
     "status": "completed"
    },
    "tags": []
   },
   "source": [
    "1. Data contain 1209 rows and 10 columns\n",
    "2. 1 float column and 9 object\n",
    "3. 6 columns have null values in which stage have maximum null values"
   ]
  },
  {
   "cell_type": "markdown",
   "id": "1681804a",
   "metadata": {
    "papermill": {
     "duration": 0.040838,
     "end_time": "2022-03-04T11:12:25.304842",
     "exception": false,
     "start_time": "2022-03-04T11:12:25.264004",
     "status": "completed"
    },
    "tags": []
   },
   "source": [
    "# **Clean Data**\n",
    "**In Data some column have null values, so we have to handle null values**"
   ]
  },
  {
   "cell_type": "code",
   "execution_count": 9,
   "id": "4ee537ee",
   "metadata": {
    "execution": {
     "iopub.execute_input": "2022-03-04T11:12:25.400369Z",
     "iopub.status.busy": "2022-03-04T11:12:25.395244Z",
     "iopub.status.idle": "2022-03-04T11:12:25.756867Z",
     "shell.execute_reply": "2022-03-04T11:12:25.757406Z",
     "shell.execute_reply.started": "2022-03-04T11:09:30.755255Z"
    },
    "papermill": {
     "duration": 0.411796,
     "end_time": "2022-03-04T11:12:25.757623",
     "exception": false,
     "start_time": "2022-03-04T11:12:25.345827",
     "status": "completed"
    },
    "tags": []
   },
   "outputs": [
    {
     "data": {
      "text/plain": [
       "<AxesSubplot:>"
      ]
     },
     "execution_count": 9,
     "metadata": {},
     "output_type": "execute_result"
    },
    {
     "data": {
      "image/png": "[encoded data removed]",
      "text/plain": [
       "<Figure size 432x288 with 1 Axes>"
      ]
     },
     "metadata": {
      "needs_background": "light"
     },
     "output_type": "display_data"
    }
   ],
   "source": [
    "sns.heatmap(df.isnull(), cbar=False) #finding columns having nan values"
   ]
  },
  {
   "cell_type": "code",
   "execution_count": 10,
   "id": "269dd260",
   "metadata": {
    "execution": {
     "iopub.execute_input": "2022-03-04T11:12:25.848578Z",
     "iopub.status.busy": "2022-03-04T11:12:25.847744Z",
     "iopub.status.idle": "2022-03-04T11:12:25.858125Z",
     "shell.execute_reply": "2022-03-04T11:12:25.858729Z",
     "shell.execute_reply.started": "2022-03-04T11:09:31.130287Z"
    },
    "papermill": {
     "duration": 0.05749,
     "end_time": "2022-03-04T11:12:25.858972",
     "exception": false,
     "start_time": "2022-03-04T11:12:25.801482",
     "status": "completed"
    },
    "tags": []
   },
   "outputs": [
    {
     "data": {
      "text/plain": [
       "Company/Brand      0\n",
       "Founded            1\n",
       "Headquarters       1\n",
       "Sector             0\n",
       "What it does       0\n",
       "Founder/s          4\n",
       "Investor/s        62\n",
       "Amount             3\n",
       "Stage            428\n",
       "Date               0\n",
       "dtype: int64"
      ]
     },
     "execution_count": 10,
     "metadata": {},
     "output_type": "execute_result"
    }
   ],
   "source": [
    "df.isnull().sum()"
   ]
  },
  {
   "cell_type": "code",
   "execution_count": 11,
   "id": "20fc58f4",
   "metadata": {
    "execution": {
     "iopub.execute_input": "2022-03-04T11:12:25.951486Z",
     "iopub.status.busy": "2022-03-04T11:12:25.950798Z",
     "iopub.status.idle": "2022-03-04T11:12:25.966202Z",
     "shell.execute_reply": "2022-03-04T11:12:25.966848Z",
     "shell.execute_reply.started": "2022-03-04T11:09:31.140159Z"
    },
    "papermill": {
     "duration": 0.064713,
     "end_time": "2022-03-04T11:12:25.967064",
     "exception": false,
     "start_time": "2022-03-04T11:12:25.902351",
     "status": "completed"
    },
    "tags": []
   },
   "outputs": [
    {
     "data": {
      "text/html": [
       "<div>\n",
       "<style scoped>\n",
       "    .dataframe tbody tr th:only-of-type {\n",
       "        vertical-align: middle;\n",
       "    }\n",
       "\n",
       "    .dataframe tbody tr th {\n",
       "        vertical-align: top;\n",
       "    }\n",
       "\n",
       "    .dataframe thead th {\n",
       "        text-align: right;\n",
       "    }\n",
       "</style>\n",
       "<table border=\"1\" class=\"dataframe\">\n",
       "  <thead>\n",
       "    <tr style=\"text-align: right;\">\n",
       "      <th></th>\n",
       "      <th>Company/Brand</th>\n",
       "      <th>Founded</th>\n",
       "      <th>Headquarters</th>\n",
       "      <th>Sector</th>\n",
       "      <th>What it does</th>\n",
       "      <th>Founder/s</th>\n",
       "      <th>Investor/s</th>\n",
       "      <th>Amount</th>\n",
       "      <th>Stage</th>\n",
       "      <th>Date</th>\n",
       "    </tr>\n",
       "  </thead>\n",
       "  <tbody>\n",
       "    <tr>\n",
       "      <th>494</th>\n",
       "      <td>Smart Express</td>\n",
       "      <td>NaN</td>\n",
       "      <td>Mumbai</td>\n",
       "      <td>Logistics</td>\n",
       "      <td>India’s Most Innovative and Awarded Express Lo...</td>\n",
       "      <td>Yogesh Dhingra</td>\n",
       "      <td>IIFL India Private Equity Fund, Smiti Holding ...</td>\n",
       "      <td>$10,000,000</td>\n",
       "      <td>Seed</td>\n",
       "      <td>Aug-2021</td>\n",
       "    </tr>\n",
       "  </tbody>\n",
       "</table>\n",
       "</div>"
      ],
      "text/plain": [
       "     Company/Brand  Founded Headquarters     Sector  \\\n",
       "494  Smart Express      NaN       Mumbai  Logistics   \n",
       "\n",
       "                                          What it does       Founder/s  \\\n",
       "494  India’s Most Innovative and Awarded Express Lo...  Yogesh Dhingra   \n",
       "\n",
       "                                            Investor/s       Amount Stage  \\\n",
       "494  IIFL India Private Equity Fund, Smiti Holding ...  $10,000,000  Seed   \n",
       "\n",
       "        Date   \n",
       "494  Aug-2021  "
      ]
     },
     "execution_count": 11,
     "metadata": {},
     "output_type": "execute_result"
    }
   ],
   "source": [
    "df.loc[df['Company/Brand'] == 'Smart Express']"
   ]
  },
  {
   "cell_type": "code",
   "execution_count": 12,
   "id": "9d472a08",
   "metadata": {
    "execution": {
     "iopub.execute_input": "2022-03-04T11:12:26.058130Z",
     "iopub.status.busy": "2022-03-04T11:12:26.057296Z",
     "iopub.status.idle": "2022-03-04T11:12:26.076658Z",
     "shell.execute_reply": "2022-03-04T11:12:26.075920Z",
     "shell.execute_reply.started": "2022-03-04T11:09:31.160604Z"
    },
    "papermill": {
     "duration": 0.066397,
     "end_time": "2022-03-04T11:12:26.076832",
     "exception": false,
     "start_time": "2022-03-04T11:12:26.010435",
     "status": "completed"
    },
    "tags": []
   },
   "outputs": [
    {
     "data": {
      "text/html": [
       "<div>\n",
       "<style scoped>\n",
       "    .dataframe tbody tr th:only-of-type {\n",
       "        vertical-align: middle;\n",
       "    }\n",
       "\n",
       "    .dataframe tbody tr th {\n",
       "        vertical-align: top;\n",
       "    }\n",
       "\n",
       "    .dataframe thead th {\n",
       "        text-align: right;\n",
       "    }\n",
       "</style>\n",
       "<table border=\"1\" class=\"dataframe\">\n",
       "  <thead>\n",
       "    <tr style=\"text-align: right;\">\n",
       "      <th></th>\n",
       "      <th>Company/Brand</th>\n",
       "      <th>Founded</th>\n",
       "      <th>Headquarters</th>\n",
       "      <th>Sector</th>\n",
       "      <th>What it does</th>\n",
       "      <th>Founder/s</th>\n",
       "      <th>Investor/s</th>\n",
       "      <th>Amount</th>\n",
       "      <th>Stage</th>\n",
       "      <th>Date</th>\n",
       "    </tr>\n",
       "  </thead>\n",
       "  <tbody>\n",
       "    <tr>\n",
       "      <th>494</th>\n",
       "      <td>Smart Express</td>\n",
       "      <td>2018.0</td>\n",
       "      <td>Mumbai</td>\n",
       "      <td>Logistics</td>\n",
       "      <td>India’s Most Innovative and Awarded Express Lo...</td>\n",
       "      <td>Yogesh Dhingra</td>\n",
       "      <td>IIFL India Private Equity Fund, Smiti Holding ...</td>\n",
       "      <td>$10,000,000</td>\n",
       "      <td>Seed</td>\n",
       "      <td>Aug-2021</td>\n",
       "    </tr>\n",
       "  </tbody>\n",
       "</table>\n",
       "</div>"
      ],
      "text/plain": [
       "     Company/Brand  Founded Headquarters     Sector  \\\n",
       "494  Smart Express   2018.0       Mumbai  Logistics   \n",
       "\n",
       "                                          What it does       Founder/s  \\\n",
       "494  India’s Most Innovative and Awarded Express Lo...  Yogesh Dhingra   \n",
       "\n",
       "                                            Investor/s       Amount Stage  \\\n",
       "494  IIFL India Private Equity Fund, Smiti Holding ...  $10,000,000  Seed   \n",
       "\n",
       "        Date   \n",
       "494  Aug-2021  "
      ]
     },
     "execution_count": 12,
     "metadata": {},
     "output_type": "execute_result"
    }
   ],
   "source": [
    "# Smart Express founded column is empty, Google about smart express and found the year and filling the null value\n",
    "df.iloc[494, 1] = 2018\n",
    "df.loc[df['Company/Brand'] == 'Smart Express']"
   ]
  },
  {
   "cell_type": "code",
   "execution_count": 13,
   "id": "14edb23a",
   "metadata": {
    "execution": {
     "iopub.execute_input": "2022-03-04T11:12:26.183862Z",
     "iopub.status.busy": "2022-03-04T11:12:26.183068Z",
     "iopub.status.idle": "2022-03-04T11:12:26.187887Z",
     "shell.execute_reply": "2022-03-04T11:12:26.187261Z",
     "shell.execute_reply.started": "2022-03-04T11:09:31.185760Z"
    },
    "papermill": {
     "duration": 0.067148,
     "end_time": "2022-03-04T11:12:26.188049",
     "exception": false,
     "start_time": "2022-03-04T11:12:26.120901",
     "status": "completed"
    },
    "tags": []
   },
   "outputs": [
    {
     "data": {
      "text/html": [
       "<div>\n",
       "<style scoped>\n",
       "    .dataframe tbody tr th:only-of-type {\n",
       "        vertical-align: middle;\n",
       "    }\n",
       "\n",
       "    .dataframe tbody tr th {\n",
       "        vertical-align: top;\n",
       "    }\n",
       "\n",
       "    .dataframe thead th {\n",
       "        text-align: right;\n",
       "    }\n",
       "</style>\n",
       "<table border=\"1\" class=\"dataframe\">\n",
       "  <thead>\n",
       "    <tr style=\"text-align: right;\">\n",
       "      <th></th>\n",
       "      <th>Company/Brand</th>\n",
       "      <th>Founded</th>\n",
       "      <th>Headquarters</th>\n",
       "      <th>Sector</th>\n",
       "      <th>What it does</th>\n",
       "      <th>Founder/s</th>\n",
       "      <th>Investor/s</th>\n",
       "      <th>Amount</th>\n",
       "      <th>Stage</th>\n",
       "      <th>Date</th>\n",
       "    </tr>\n",
       "  </thead>\n",
       "  <tbody>\n",
       "    <tr>\n",
       "      <th>419</th>\n",
       "      <td>Vidyakul</td>\n",
       "      <td>2017.0</td>\n",
       "      <td>Gurugram</td>\n",
       "      <td>EdTech</td>\n",
       "      <td>Vidyakul is a group of academic experts.</td>\n",
       "      <td>Tarun Saini, Gaurav Singhvi</td>\n",
       "      <td>We Founder Circle</td>\n",
       "      <td>$500,000</td>\n",
       "      <td>Bridge</td>\n",
       "      <td>Sep-2021</td>\n",
       "    </tr>\n",
       "    <tr>\n",
       "      <th>915</th>\n",
       "      <td>Vidyakul</td>\n",
       "      <td>2018.0</td>\n",
       "      <td>NaN</td>\n",
       "      <td>EdTech</td>\n",
       "      <td>Vidyakul is an vernacular e-learning platform ...</td>\n",
       "      <td>Raman Garg, Tarun Saini</td>\n",
       "      <td>JITO Angel Network, SOSV</td>\n",
       "      <td>$500,000</td>\n",
       "      <td>Seed</td>\n",
       "      <td>Apr-2021</td>\n",
       "    </tr>\n",
       "  </tbody>\n",
       "</table>\n",
       "</div>"
      ],
      "text/plain": [
       "    Company/Brand  Founded Headquarters  Sector  \\\n",
       "419      Vidyakul   2017.0     Gurugram  EdTech   \n",
       "915      Vidyakul   2018.0          NaN  EdTech   \n",
       "\n",
       "                                          What it does  \\\n",
       "419           Vidyakul is a group of academic experts.   \n",
       "915  Vidyakul is an vernacular e-learning platform ...   \n",
       "\n",
       "                       Founder/s                Investor/s    Amount   Stage  \\\n",
       "419  Tarun Saini, Gaurav Singhvi         We Founder Circle  $500,000  Bridge   \n",
       "915      Raman Garg, Tarun Saini  JITO Angel Network, SOSV  $500,000    Seed   \n",
       "\n",
       "        Date   \n",
       "419  Sep-2021  \n",
       "915  Apr-2021  "
      ]
     },
     "execution_count": 13,
     "metadata": {},
     "output_type": "execute_result"
    }
   ],
   "source": [
    "df.loc[df['Company/Brand'] == 'Vidyakul']"
   ]
  },
  {
   "cell_type": "code",
   "execution_count": 14,
   "id": "57791ed4",
   "metadata": {
    "execution": {
     "iopub.execute_input": "2022-03-04T11:12:26.297128Z",
     "iopub.status.busy": "2022-03-04T11:12:26.296249Z",
     "iopub.status.idle": "2022-03-04T11:12:26.299385Z",
     "shell.execute_reply": "2022-03-04T11:12:26.299915Z",
     "shell.execute_reply.started": "2022-03-04T11:09:31.208876Z"
    },
    "papermill": {
     "duration": 0.067348,
     "end_time": "2022-03-04T11:12:26.300125",
     "exception": false,
     "start_time": "2022-03-04T11:12:26.232777",
     "status": "completed"
    },
    "tags": []
   },
   "outputs": [
    {
     "data": {
      "text/html": [
       "<div>\n",
       "<style scoped>\n",
       "    .dataframe tbody tr th:only-of-type {\n",
       "        vertical-align: middle;\n",
       "    }\n",
       "\n",
       "    .dataframe tbody tr th {\n",
       "        vertical-align: top;\n",
       "    }\n",
       "\n",
       "    .dataframe thead th {\n",
       "        text-align: right;\n",
       "    }\n",
       "</style>\n",
       "<table border=\"1\" class=\"dataframe\">\n",
       "  <thead>\n",
       "    <tr style=\"text-align: right;\">\n",
       "      <th></th>\n",
       "      <th>Company/Brand</th>\n",
       "      <th>Founded</th>\n",
       "      <th>Headquarters</th>\n",
       "      <th>Sector</th>\n",
       "      <th>What it does</th>\n",
       "      <th>Founder/s</th>\n",
       "      <th>Investor/s</th>\n",
       "      <th>Amount</th>\n",
       "      <th>Stage</th>\n",
       "      <th>Date</th>\n",
       "    </tr>\n",
       "  </thead>\n",
       "  <tbody>\n",
       "    <tr>\n",
       "      <th>419</th>\n",
       "      <td>Vidyakul</td>\n",
       "      <td>2017.0</td>\n",
       "      <td>Gurugram</td>\n",
       "      <td>EdTech</td>\n",
       "      <td>Vidyakul is a group of academic experts.</td>\n",
       "      <td>Tarun Saini, Gaurav Singhvi</td>\n",
       "      <td>We Founder Circle</td>\n",
       "      <td>$500,000</td>\n",
       "      <td>Bridge</td>\n",
       "      <td>Sep-2021</td>\n",
       "    </tr>\n",
       "    <tr>\n",
       "      <th>915</th>\n",
       "      <td>Vidyakul</td>\n",
       "      <td>2018.0</td>\n",
       "      <td>Gurugram</td>\n",
       "      <td>EdTech</td>\n",
       "      <td>Vidyakul is an vernacular e-learning platform ...</td>\n",
       "      <td>Raman Garg, Tarun Saini</td>\n",
       "      <td>JITO Angel Network, SOSV</td>\n",
       "      <td>$500,000</td>\n",
       "      <td>Seed</td>\n",
       "      <td>Apr-2021</td>\n",
       "    </tr>\n",
       "  </tbody>\n",
       "</table>\n",
       "</div>"
      ],
      "text/plain": [
       "    Company/Brand  Founded Headquarters  Sector  \\\n",
       "419      Vidyakul   2017.0     Gurugram  EdTech   \n",
       "915      Vidyakul   2018.0     Gurugram  EdTech   \n",
       "\n",
       "                                          What it does  \\\n",
       "419           Vidyakul is a group of academic experts.   \n",
       "915  Vidyakul is an vernacular e-learning platform ...   \n",
       "\n",
       "                       Founder/s                Investor/s    Amount   Stage  \\\n",
       "419  Tarun Saini, Gaurav Singhvi         We Founder Circle  $500,000  Bridge   \n",
       "915      Raman Garg, Tarun Saini  JITO Angel Network, SOSV  $500,000    Seed   \n",
       "\n",
       "        Date   \n",
       "419  Sep-2021  \n",
       "915  Apr-2021  "
      ]
     },
     "execution_count": 14,
     "metadata": {},
     "output_type": "execute_result"
    }
   ],
   "source": [
    "# in one Vidyakul Headquarters columns have null value, So Google about it and fill the null columnns\n",
    "df.iloc[915, 2] = 'Gurugram'\n",
    "df.loc[df['Company/Brand'] == 'Vidyakul']"
   ]
  },
  {
   "cell_type": "code",
   "execution_count": 15,
   "id": "c495e72c",
   "metadata": {
    "execution": {
     "iopub.execute_input": "2022-03-04T11:12:26.399658Z",
     "iopub.status.busy": "2022-03-04T11:12:26.398917Z",
     "iopub.status.idle": "2022-03-04T11:12:26.412087Z",
     "shell.execute_reply": "2022-03-04T11:12:26.412769Z",
     "shell.execute_reply.started": "2022-03-04T11:09:31.232986Z"
    },
    "papermill": {
     "duration": 0.066536,
     "end_time": "2022-03-04T11:12:26.412978",
     "exception": false,
     "start_time": "2022-03-04T11:12:26.346442",
     "status": "completed"
    },
    "tags": []
   },
   "outputs": [
    {
     "data": {
      "text/html": [
       "<div>\n",
       "<style scoped>\n",
       "    .dataframe tbody tr th:only-of-type {\n",
       "        vertical-align: middle;\n",
       "    }\n",
       "\n",
       "    .dataframe tbody tr th {\n",
       "        vertical-align: top;\n",
       "    }\n",
       "\n",
       "    .dataframe thead th {\n",
       "        text-align: right;\n",
       "    }\n",
       "</style>\n",
       "<table border=\"1\" class=\"dataframe\">\n",
       "  <thead>\n",
       "    <tr style=\"text-align: right;\">\n",
       "      <th></th>\n",
       "      <th>Company/Brand</th>\n",
       "      <th>Founded</th>\n",
       "      <th>Headquarters</th>\n",
       "      <th>Sector</th>\n",
       "      <th>What it does</th>\n",
       "      <th>Founder/s</th>\n",
       "      <th>Investor/s</th>\n",
       "      <th>Amount</th>\n",
       "      <th>Stage</th>\n",
       "      <th>Date</th>\n",
       "    </tr>\n",
       "  </thead>\n",
       "  <tbody>\n",
       "    <tr>\n",
       "      <th>335</th>\n",
       "      <td>Sochcast</td>\n",
       "      <td>2020.0</td>\n",
       "      <td>Online Media #REF!</td>\n",
       "      <td>Sochcast is an Audio experiences company that ...</td>\n",
       "      <td>CA Harvinderjit Singh Bhatia, Garima Surana, A...</td>\n",
       "      <td>Vinners, Raj Nayak, Amritaanshu Agrawal</td>\n",
       "      <td>$Undisclosed</td>\n",
       "      <td>NaN</td>\n",
       "      <td>NaN</td>\n",
       "      <td>Sep-2021</td>\n",
       "    </tr>\n",
       "  </tbody>\n",
       "</table>\n",
       "</div>"
      ],
      "text/plain": [
       "    Company/Brand  Founded        Headquarters  \\\n",
       "335      Sochcast   2020.0  Online Media #REF!   \n",
       "\n",
       "                                                Sector  \\\n",
       "335  Sochcast is an Audio experiences company that ...   \n",
       "\n",
       "                                          What it does  \\\n",
       "335  CA Harvinderjit Singh Bhatia, Garima Surana, A...   \n",
       "\n",
       "                                   Founder/s    Investor/s Amount Stage  \\\n",
       "335  Vinners, Raj Nayak, Amritaanshu Agrawal  $Undisclosed    NaN   NaN   \n",
       "\n",
       "        Date   \n",
       "335  Sep-2021  "
      ]
     },
     "execution_count": 15,
     "metadata": {},
     "output_type": "execute_result"
    }
   ],
   "source": [
    "df.loc[df['Company/Brand'] == 'Sochcast']"
   ]
  },
  {
   "cell_type": "code",
   "execution_count": 16,
   "id": "8616065a",
   "metadata": {
    "execution": {
     "iopub.execute_input": "2022-03-04T11:12:26.508984Z",
     "iopub.status.busy": "2022-03-04T11:12:26.508201Z",
     "iopub.status.idle": "2022-03-04T11:12:26.528173Z",
     "shell.execute_reply": "2022-03-04T11:12:26.528887Z",
     "shell.execute_reply.started": "2022-03-04T11:09:31.254843Z"
    },
    "papermill": {
     "duration": 0.070054,
     "end_time": "2022-03-04T11:12:26.529106",
     "exception": false,
     "start_time": "2022-03-04T11:12:26.459052",
     "status": "completed"
    },
    "tags": []
   },
   "outputs": [
    {
     "data": {
      "text/html": [
       "<div>\n",
       "<style scoped>\n",
       "    .dataframe tbody tr th:only-of-type {\n",
       "        vertical-align: middle;\n",
       "    }\n",
       "\n",
       "    .dataframe tbody tr th {\n",
       "        vertical-align: top;\n",
       "    }\n",
       "\n",
       "    .dataframe thead th {\n",
       "        text-align: right;\n",
       "    }\n",
       "</style>\n",
       "<table border=\"1\" class=\"dataframe\">\n",
       "  <thead>\n",
       "    <tr style=\"text-align: right;\">\n",
       "      <th></th>\n",
       "      <th>Company/Brand</th>\n",
       "      <th>Founded</th>\n",
       "      <th>Headquarters</th>\n",
       "      <th>Sector</th>\n",
       "      <th>What it does</th>\n",
       "      <th>Founder/s</th>\n",
       "      <th>Investor/s</th>\n",
       "      <th>Amount</th>\n",
       "      <th>Stage</th>\n",
       "      <th>Date</th>\n",
       "    </tr>\n",
       "  </thead>\n",
       "  <tbody>\n",
       "    <tr>\n",
       "      <th>335</th>\n",
       "      <td>Sochcast</td>\n",
       "      <td>2020.0</td>\n",
       "      <td>Bangalore</td>\n",
       "      <td>Online Media</td>\n",
       "      <td>Sochcast is an Audio experiences company that ...</td>\n",
       "      <td>CA Harvinderjit Singh Bhatia, Garima Surana, A...</td>\n",
       "      <td>Vinners, Raj Nayak, Amritaanshu Agrawal</td>\n",
       "      <td>Undisclosed</td>\n",
       "      <td>NaN</td>\n",
       "      <td>Sep-2021</td>\n",
       "    </tr>\n",
       "  </tbody>\n",
       "</table>\n",
       "</div>"
      ],
      "text/plain": [
       "    Company/Brand  Founded Headquarters        Sector  \\\n",
       "335      Sochcast   2020.0    Bangalore  Online Media   \n",
       "\n",
       "                                          What it does  \\\n",
       "335  Sochcast is an Audio experiences company that ...   \n",
       "\n",
       "                                             Founder/s  \\\n",
       "335  CA Harvinderjit Singh Bhatia, Garima Surana, A...   \n",
       "\n",
       "                                  Investor/s       Amount Stage     Date   \n",
       "335  Vinners, Raj Nayak, Amritaanshu Agrawal  Undisclosed   NaN  Sep-2021  "
      ]
     },
     "execution_count": 16,
     "metadata": {},
     "output_type": "execute_result"
    }
   ],
   "source": [
    "# Sochcast data is not inserted properly in there columns, so i give proper value to proper columns\n",
    "df.iloc[335, 2] = 'Bangalore'\n",
    "df.iloc[335, 3] = 'Online Media'\n",
    "df.iloc[335, 4] = 'Sochcast is an Audio experiences company that give the listener and creators an Immersive Audio experience'\n",
    "df.iloc[335, 5] = 'CA Harvinderjit Singh Bhatia, Garima Surana, Anil Srivatsa'\n",
    "df.iloc[335, 6] = 'Vinners, Raj Nayak, Amritaanshu Agrawal'\n",
    "df.iloc[335, 7] = 'Undisclosed'\n",
    "df.loc[df['Company/Brand'] == 'Sochcast']"
   ]
  },
  {
   "cell_type": "code",
   "execution_count": 17,
   "id": "de29e8fe",
   "metadata": {
    "execution": {
     "iopub.execute_input": "2022-03-04T11:12:26.626652Z",
     "iopub.status.busy": "2022-03-04T11:12:26.625793Z",
     "iopub.status.idle": "2022-03-04T11:12:26.642776Z",
     "shell.execute_reply": "2022-03-04T11:12:26.643407Z",
     "shell.execute_reply.started": "2022-03-04T11:09:31.277983Z"
    },
    "papermill": {
     "duration": 0.067862,
     "end_time": "2022-03-04T11:12:26.643657",
     "exception": false,
     "start_time": "2022-03-04T11:12:26.575795",
     "status": "completed"
    },
    "tags": []
   },
   "outputs": [
    {
     "data": {
      "text/html": [
       "<div>\n",
       "<style scoped>\n",
       "    .dataframe tbody tr th:only-of-type {\n",
       "        vertical-align: middle;\n",
       "    }\n",
       "\n",
       "    .dataframe tbody tr th {\n",
       "        vertical-align: top;\n",
       "    }\n",
       "\n",
       "    .dataframe thead th {\n",
       "        text-align: right;\n",
       "    }\n",
       "</style>\n",
       "<table border=\"1\" class=\"dataframe\">\n",
       "  <thead>\n",
       "    <tr style=\"text-align: right;\">\n",
       "      <th></th>\n",
       "      <th>Company/Brand</th>\n",
       "      <th>Founded</th>\n",
       "      <th>Headquarters</th>\n",
       "      <th>Sector</th>\n",
       "      <th>What it does</th>\n",
       "      <th>Founder/s</th>\n",
       "      <th>Investor/s</th>\n",
       "      <th>Amount</th>\n",
       "      <th>Stage</th>\n",
       "      <th>Date</th>\n",
       "    </tr>\n",
       "  </thead>\n",
       "  <tbody>\n",
       "    <tr>\n",
       "      <th>784</th>\n",
       "      <td>MYRE Capital</td>\n",
       "      <td>2020.0</td>\n",
       "      <td>Mumbai</td>\n",
       "      <td>Commercial Real Estate</td>\n",
       "      <td>Democratising Real Estate Ownership</td>\n",
       "      <td>Own rent yielding commercial properties</td>\n",
       "      <td>Aryaman Vir</td>\n",
       "      <td>NaN</td>\n",
       "      <td>$6,000,000</td>\n",
       "      <td>Jun-2021</td>\n",
       "    </tr>\n",
       "  </tbody>\n",
       "</table>\n",
       "</div>"
      ],
      "text/plain": [
       "    Company/Brand  Founded Headquarters                  Sector  \\\n",
       "784  MYRE Capital   2020.0       Mumbai  Commercial Real Estate   \n",
       "\n",
       "                            What it does  \\\n",
       "784  Democratising Real Estate Ownership   \n",
       "\n",
       "                                   Founder/s   Investor/s Amount       Stage  \\\n",
       "784  Own rent yielding commercial properties  Aryaman Vir    NaN  $6,000,000   \n",
       "\n",
       "        Date   \n",
       "784  Jun-2021  "
      ]
     },
     "execution_count": 17,
     "metadata": {},
     "output_type": "execute_result"
    }
   ],
   "source": [
    "df.loc[df['Company/Brand'] == 'MYRE Capital']"
   ]
  },
  {
   "cell_type": "code",
   "execution_count": 18,
   "id": "32a05710",
   "metadata": {
    "execution": {
     "iopub.execute_input": "2022-03-04T11:12:26.743858Z",
     "iopub.status.busy": "2022-03-04T11:12:26.742968Z",
     "iopub.status.idle": "2022-03-04T11:12:26.761762Z",
     "shell.execute_reply": "2022-03-04T11:12:26.760959Z",
     "shell.execute_reply.started": "2022-03-04T11:09:31.298746Z"
    },
    "papermill": {
     "duration": 0.07058,
     "end_time": "2022-03-04T11:12:26.761952",
     "exception": false,
     "start_time": "2022-03-04T11:12:26.691372",
     "status": "completed"
    },
    "tags": []
   },
   "outputs": [
    {
     "data": {
      "text/html": [
       "<div>\n",
       "<style scoped>\n",
       "    .dataframe tbody tr th:only-of-type {\n",
       "        vertical-align: middle;\n",
       "    }\n",
       "\n",
       "    .dataframe tbody tr th {\n",
       "        vertical-align: top;\n",
       "    }\n",
       "\n",
       "    .dataframe thead th {\n",
       "        text-align: right;\n",
       "    }\n",
       "</style>\n",
       "<table border=\"1\" class=\"dataframe\">\n",
       "  <thead>\n",
       "    <tr style=\"text-align: right;\">\n",
       "      <th></th>\n",
       "      <th>Company/Brand</th>\n",
       "      <th>Founded</th>\n",
       "      <th>Headquarters</th>\n",
       "      <th>Sector</th>\n",
       "      <th>What it does</th>\n",
       "      <th>Founder/s</th>\n",
       "      <th>Investor/s</th>\n",
       "      <th>Amount</th>\n",
       "      <th>Stage</th>\n",
       "      <th>Date</th>\n",
       "    </tr>\n",
       "  </thead>\n",
       "  <tbody>\n",
       "    <tr>\n",
       "      <th>784</th>\n",
       "      <td>MYRE Capital</td>\n",
       "      <td>2020.0</td>\n",
       "      <td>Mumbai</td>\n",
       "      <td>Commercial Real Estate</td>\n",
       "      <td>Own rent yielding commercial properties</td>\n",
       "      <td>Aryaman Vir</td>\n",
       "      <td>Aryaman Vir</td>\n",
       "      <td>NaN</td>\n",
       "      <td>$6,000,000</td>\n",
       "      <td>Jun-2021</td>\n",
       "    </tr>\n",
       "  </tbody>\n",
       "</table>\n",
       "</div>"
      ],
      "text/plain": [
       "    Company/Brand  Founded Headquarters                  Sector  \\\n",
       "784  MYRE Capital   2020.0       Mumbai  Commercial Real Estate   \n",
       "\n",
       "                                What it does    Founder/s   Investor/s Amount  \\\n",
       "784  Own rent yielding commercial properties  Aryaman Vir  Aryaman Vir    NaN   \n",
       "\n",
       "          Stage     Date   \n",
       "784  $6,000,000  Jun-2021  "
      ]
     },
     "execution_count": 18,
     "metadata": {},
     "output_type": "execute_result"
    }
   ],
   "source": [
    "# Give proper data to this columns too\n",
    "df.iloc[784, 5] = 'Aryaman Vir'\n",
    "df.iloc[784, 4] = 'Own rent yielding commercial properties'\n",
    "df.loc[df['Company/Brand'] == 'MYRE Capital']"
   ]
  },
  {
   "cell_type": "code",
   "execution_count": 19,
   "id": "d357f9f1",
   "metadata": {
    "execution": {
     "iopub.execute_input": "2022-03-04T11:12:26.878400Z",
     "iopub.status.busy": "2022-03-04T11:12:26.877353Z",
     "iopub.status.idle": "2022-03-04T11:12:26.881377Z",
     "shell.execute_reply": "2022-03-04T11:12:26.881919Z",
     "shell.execute_reply.started": "2022-03-04T11:09:31.325136Z"
    },
    "papermill": {
     "duration": 0.071197,
     "end_time": "2022-03-04T11:12:26.882126",
     "exception": false,
     "start_time": "2022-03-04T11:12:26.810929",
     "status": "completed"
    },
    "tags": []
   },
   "outputs": [
    {
     "data": {
      "text/html": [
       "<div>\n",
       "<style scoped>\n",
       "    .dataframe tbody tr th:only-of-type {\n",
       "        vertical-align: middle;\n",
       "    }\n",
       "\n",
       "    .dataframe tbody tr th {\n",
       "        vertical-align: top;\n",
       "    }\n",
       "\n",
       "    .dataframe thead th {\n",
       "        text-align: right;\n",
       "    }\n",
       "</style>\n",
       "<table border=\"1\" class=\"dataframe\">\n",
       "  <thead>\n",
       "    <tr style=\"text-align: right;\">\n",
       "      <th></th>\n",
       "      <th>Company/Brand</th>\n",
       "      <th>Founded</th>\n",
       "      <th>Headquarters</th>\n",
       "      <th>Sector</th>\n",
       "      <th>What it does</th>\n",
       "      <th>Founder/s</th>\n",
       "      <th>Investor/s</th>\n",
       "      <th>Amount</th>\n",
       "      <th>Stage</th>\n",
       "      <th>Date</th>\n",
       "    </tr>\n",
       "  </thead>\n",
       "  <tbody>\n",
       "    <tr>\n",
       "      <th>546</th>\n",
       "      <td>Onsurity</td>\n",
       "      <td>2020.0</td>\n",
       "      <td>Bangalore</td>\n",
       "      <td>Healthcare</td>\n",
       "      <td>Onsurity is a HealthTech &amp; Employee Benefits o...</td>\n",
       "      <td>Yogesh Agarwal, Kulin Shah</td>\n",
       "      <td>Nexus Venture Partners</td>\n",
       "      <td>$16,000,000</td>\n",
       "      <td>Series A</td>\n",
       "      <td>Aug-2021</td>\n",
       "    </tr>\n",
       "    <tr>\n",
       "      <th>972</th>\n",
       "      <td>Onsurity</td>\n",
       "      <td>2020.0</td>\n",
       "      <td>Bangalore</td>\n",
       "      <td>HealthCare</td>\n",
       "      <td>Onsurity is an employee healthcare platform pr...</td>\n",
       "      <td>Kulin Shah, Yogesh Agarwal</td>\n",
       "      <td>Jitendra Gupta, Harsh Shah</td>\n",
       "      <td>NaN</td>\n",
       "      <td>NaN</td>\n",
       "      <td>Apr-2021</td>\n",
       "    </tr>\n",
       "  </tbody>\n",
       "</table>\n",
       "</div>"
      ],
      "text/plain": [
       "    Company/Brand  Founded Headquarters      Sector  \\\n",
       "546      Onsurity   2020.0    Bangalore  Healthcare   \n",
       "972      Onsurity   2020.0    Bangalore  HealthCare   \n",
       "\n",
       "                                          What it does  \\\n",
       "546  Onsurity is a HealthTech & Employee Benefits o...   \n",
       "972  Onsurity is an employee healthcare platform pr...   \n",
       "\n",
       "                      Founder/s                  Investor/s       Amount  \\\n",
       "546  Yogesh Agarwal, Kulin Shah      Nexus Venture Partners  $16,000,000   \n",
       "972  Kulin Shah, Yogesh Agarwal  Jitendra Gupta, Harsh Shah          NaN   \n",
       "\n",
       "        Stage     Date   \n",
       "546  Series A  Aug-2021  \n",
       "972       NaN  Apr-2021  "
      ]
     },
     "execution_count": 19,
     "metadata": {},
     "output_type": "execute_result"
    }
   ],
   "source": [
    "df.loc[df['Company/Brand'] == 'Onsurity']"
   ]
  },
  {
   "cell_type": "code",
   "execution_count": 20,
   "id": "a4ce0d72",
   "metadata": {
    "execution": {
     "iopub.execute_input": "2022-03-04T11:12:26.999591Z",
     "iopub.status.busy": "2022-03-04T11:12:26.986566Z",
     "iopub.status.idle": "2022-03-04T11:12:27.004220Z",
     "shell.execute_reply": "2022-03-04T11:12:27.003442Z",
     "shell.execute_reply.started": "2022-03-04T11:09:31.342959Z"
    },
    "papermill": {
     "duration": 0.073134,
     "end_time": "2022-03-04T11:12:27.004391",
     "exception": false,
     "start_time": "2022-03-04T11:12:26.931257",
     "status": "completed"
    },
    "tags": []
   },
   "outputs": [
    {
     "data": {
      "text/html": [
       "<div>\n",
       "<style scoped>\n",
       "    .dataframe tbody tr th:only-of-type {\n",
       "        vertical-align: middle;\n",
       "    }\n",
       "\n",
       "    .dataframe tbody tr th {\n",
       "        vertical-align: top;\n",
       "    }\n",
       "\n",
       "    .dataframe thead th {\n",
       "        text-align: right;\n",
       "    }\n",
       "</style>\n",
       "<table border=\"1\" class=\"dataframe\">\n",
       "  <thead>\n",
       "    <tr style=\"text-align: right;\">\n",
       "      <th></th>\n",
       "      <th>Company/Brand</th>\n",
       "      <th>Founded</th>\n",
       "      <th>Headquarters</th>\n",
       "      <th>Sector</th>\n",
       "      <th>What it does</th>\n",
       "      <th>Founder/s</th>\n",
       "      <th>Investor/s</th>\n",
       "      <th>Amount</th>\n",
       "      <th>Stage</th>\n",
       "      <th>Date</th>\n",
       "    </tr>\n",
       "  </thead>\n",
       "  <tbody>\n",
       "    <tr>\n",
       "      <th>546</th>\n",
       "      <td>Onsurity</td>\n",
       "      <td>2020.0</td>\n",
       "      <td>Bangalore</td>\n",
       "      <td>Healthcare</td>\n",
       "      <td>Onsurity is a HealthTech &amp; Employee Benefits o...</td>\n",
       "      <td>Yogesh Agarwal, Kulin Shah</td>\n",
       "      <td>Nexus Venture Partners</td>\n",
       "      <td>$16,000,000</td>\n",
       "      <td>Series A</td>\n",
       "      <td>Aug-2021</td>\n",
       "    </tr>\n",
       "  </tbody>\n",
       "</table>\n",
       "</div>"
      ],
      "text/plain": [
       "    Company/Brand  Founded Headquarters      Sector  \\\n",
       "546      Onsurity   2020.0    Bangalore  Healthcare   \n",
       "\n",
       "                                          What it does  \\\n",
       "546  Onsurity is a HealthTech & Employee Benefits o...   \n",
       "\n",
       "                      Founder/s              Investor/s       Amount  \\\n",
       "546  Yogesh Agarwal, Kulin Shah  Nexus Venture Partners  $16,000,000   \n",
       "\n",
       "        Stage     Date   \n",
       "546  Series A  Aug-2021  "
      ]
     },
     "execution_count": 20,
     "metadata": {},
     "output_type": "execute_result"
    }
   ],
   "source": [
    "# Company onsurity have 2 entries so i deleted one entry\n",
    "df = df.drop([df.index[972]])\n",
    "df.loc[df['Company/Brand'] == 'Onsurity']"
   ]
  },
  {
   "cell_type": "code",
   "execution_count": 21,
   "id": "ad839551",
   "metadata": {
    "execution": {
     "iopub.execute_input": "2022-03-04T11:12:27.121783Z",
     "iopub.status.busy": "2022-03-04T11:12:27.121036Z",
     "iopub.status.idle": "2022-03-04T11:12:27.124003Z",
     "shell.execute_reply": "2022-03-04T11:12:27.124511Z",
     "shell.execute_reply.started": "2022-03-04T11:09:31.367487Z"
    },
    "papermill": {
     "duration": 0.071459,
     "end_time": "2022-03-04T11:12:27.124728",
     "exception": false,
     "start_time": "2022-03-04T11:12:27.053269",
     "status": "completed"
    },
    "tags": []
   },
   "outputs": [
    {
     "data": {
      "text/html": [
       "<div>\n",
       "<style scoped>\n",
       "    .dataframe tbody tr th:only-of-type {\n",
       "        vertical-align: middle;\n",
       "    }\n",
       "\n",
       "    .dataframe tbody tr th {\n",
       "        vertical-align: top;\n",
       "    }\n",
       "\n",
       "    .dataframe thead th {\n",
       "        text-align: right;\n",
       "    }\n",
       "</style>\n",
       "<table border=\"1\" class=\"dataframe\">\n",
       "  <thead>\n",
       "    <tr style=\"text-align: right;\">\n",
       "      <th></th>\n",
       "      <th>Company/Brand</th>\n",
       "      <th>Founded</th>\n",
       "      <th>Headquarters</th>\n",
       "      <th>Sector</th>\n",
       "      <th>What it does</th>\n",
       "      <th>Founder/s</th>\n",
       "      <th>Investor/s</th>\n",
       "      <th>Amount</th>\n",
       "      <th>Stage</th>\n",
       "      <th>Date</th>\n",
       "    </tr>\n",
       "  </thead>\n",
       "  <tbody>\n",
       "    <tr>\n",
       "      <th>784</th>\n",
       "      <td>MYRE Capital</td>\n",
       "      <td>2020.0</td>\n",
       "      <td>Mumbai</td>\n",
       "      <td>Commercial Real Estate</td>\n",
       "      <td>Own rent yielding commercial properties</td>\n",
       "      <td>Aryaman Vir</td>\n",
       "      <td>Aryaman Vir</td>\n",
       "      <td>NaN</td>\n",
       "      <td>$6,000,000</td>\n",
       "      <td>Jun-2021</td>\n",
       "    </tr>\n",
       "  </tbody>\n",
       "</table>\n",
       "</div>"
      ],
      "text/plain": [
       "    Company/Brand  Founded Headquarters                  Sector  \\\n",
       "784  MYRE Capital   2020.0       Mumbai  Commercial Real Estate   \n",
       "\n",
       "                                What it does    Founder/s   Investor/s Amount  \\\n",
       "784  Own rent yielding commercial properties  Aryaman Vir  Aryaman Vir    NaN   \n",
       "\n",
       "          Stage     Date   \n",
       "784  $6,000,000  Jun-2021  "
      ]
     },
     "execution_count": 21,
     "metadata": {},
     "output_type": "execute_result"
    }
   ],
   "source": [
    "df.loc[df['Amount'].isnull() == True]"
   ]
  },
  {
   "cell_type": "code",
   "execution_count": 22,
   "id": "10aec736",
   "metadata": {
    "execution": {
     "iopub.execute_input": "2022-03-04T11:12:27.241588Z",
     "iopub.status.busy": "2022-03-04T11:12:27.226051Z",
     "iopub.status.idle": "2022-03-04T11:12:27.246358Z",
     "shell.execute_reply": "2022-03-04T11:12:27.245587Z",
     "shell.execute_reply.started": "2022-03-04T11:09:31.385601Z"
    },
    "papermill": {
     "duration": 0.072864,
     "end_time": "2022-03-04T11:12:27.246547",
     "exception": false,
     "start_time": "2022-03-04T11:12:27.173683",
     "status": "completed"
    },
    "tags": []
   },
   "outputs": [
    {
     "data": {
      "text/html": [
       "<div>\n",
       "<style scoped>\n",
       "    .dataframe tbody tr th:only-of-type {\n",
       "        vertical-align: middle;\n",
       "    }\n",
       "\n",
       "    .dataframe tbody tr th {\n",
       "        vertical-align: top;\n",
       "    }\n",
       "\n",
       "    .dataframe thead th {\n",
       "        text-align: right;\n",
       "    }\n",
       "</style>\n",
       "<table border=\"1\" class=\"dataframe\">\n",
       "  <thead>\n",
       "    <tr style=\"text-align: right;\">\n",
       "      <th></th>\n",
       "      <th>Company/Brand</th>\n",
       "      <th>Founded</th>\n",
       "      <th>Headquarters</th>\n",
       "      <th>Sector</th>\n",
       "      <th>What it does</th>\n",
       "      <th>Founder/s</th>\n",
       "      <th>Investor/s</th>\n",
       "      <th>Amount</th>\n",
       "      <th>Stage</th>\n",
       "      <th>Date</th>\n",
       "    </tr>\n",
       "  </thead>\n",
       "  <tbody>\n",
       "    <tr>\n",
       "      <th>784</th>\n",
       "      <td>MYRE Capital</td>\n",
       "      <td>2020.0</td>\n",
       "      <td>Mumbai</td>\n",
       "      <td>Commercial Real Estate</td>\n",
       "      <td>Own rent yielding commercial properties</td>\n",
       "      <td>Aryaman Vir</td>\n",
       "      <td>Aryaman Vir</td>\n",
       "      <td>$6,000,000</td>\n",
       "      <td>NaN</td>\n",
       "      <td>Jun-2021</td>\n",
       "    </tr>\n",
       "  </tbody>\n",
       "</table>\n",
       "</div>"
      ],
      "text/plain": [
       "    Company/Brand  Founded Headquarters                  Sector  \\\n",
       "784  MYRE Capital   2020.0       Mumbai  Commercial Real Estate   \n",
       "\n",
       "                                What it does    Founder/s   Investor/s  \\\n",
       "784  Own rent yielding commercial properties  Aryaman Vir  Aryaman Vir   \n",
       "\n",
       "         Amount Stage     Date   \n",
       "784  $6,000,000   NaN  Jun-2021  "
      ]
     },
     "execution_count": 22,
     "metadata": {},
     "output_type": "execute_result"
    }
   ],
   "source": [
    "# MYRE Capital amount is entered in columns, so switch if with right one\n",
    "df.iloc[784, 7] = '$6,000,000'\n",
    "df.iloc[784, 8] = 'NaN'\n",
    "df.loc[df['Company/Brand'] == 'MYRE Capital']"
   ]
  },
  {
   "cell_type": "code",
   "execution_count": 23,
   "id": "58ed82e9",
   "metadata": {
    "execution": {
     "iopub.execute_input": "2022-03-04T11:12:27.351549Z",
     "iopub.status.busy": "2022-03-04T11:12:27.350437Z",
     "iopub.status.idle": "2022-03-04T11:12:27.368468Z",
     "shell.execute_reply": "2022-03-04T11:12:27.369193Z",
     "shell.execute_reply.started": "2022-03-04T11:09:31.409944Z"
    },
    "papermill": {
     "duration": 0.072627,
     "end_time": "2022-03-04T11:12:27.369399",
     "exception": false,
     "start_time": "2022-03-04T11:12:27.296772",
     "status": "completed"
    },
    "tags": []
   },
   "outputs": [
    {
     "data": {
      "text/html": [
       "<div>\n",
       "<style scoped>\n",
       "    .dataframe tbody tr th:only-of-type {\n",
       "        vertical-align: middle;\n",
       "    }\n",
       "\n",
       "    .dataframe tbody tr th {\n",
       "        vertical-align: top;\n",
       "    }\n",
       "\n",
       "    .dataframe thead th {\n",
       "        text-align: right;\n",
       "    }\n",
       "</style>\n",
       "<table border=\"1\" class=\"dataframe\">\n",
       "  <thead>\n",
       "    <tr style=\"text-align: right;\">\n",
       "      <th></th>\n",
       "      <th>Company/Brand</th>\n",
       "      <th>Founded</th>\n",
       "      <th>Headquarters</th>\n",
       "      <th>Sector</th>\n",
       "      <th>What it does</th>\n",
       "      <th>Founder/s</th>\n",
       "      <th>Investor/s</th>\n",
       "      <th>Amount</th>\n",
       "      <th>Stage</th>\n",
       "      <th>Date</th>\n",
       "    </tr>\n",
       "  </thead>\n",
       "  <tbody>\n",
       "    <tr>\n",
       "      <th>62</th>\n",
       "      <td>ByteLearn</td>\n",
       "      <td>2021.0</td>\n",
       "      <td>Noida</td>\n",
       "      <td>E-learning</td>\n",
       "      <td>AI powered teaching assistant for 100 Mn teach...</td>\n",
       "      <td>NaN</td>\n",
       "      <td>Aditya Singhal, Nishant Sinha</td>\n",
       "      <td>$9,500,000</td>\n",
       "      <td>Seed</td>\n",
       "      <td>Dec-2021</td>\n",
       "    </tr>\n",
       "    <tr>\n",
       "      <th>330</th>\n",
       "      <td>PredictiVu</td>\n",
       "      <td>2020.0</td>\n",
       "      <td>Gurugram</td>\n",
       "      <td>Management Consulting</td>\n",
       "      <td>PredictiVu's AI-enabled dashboard integrated w...</td>\n",
       "      <td>NaN</td>\n",
       "      <td>Kunal Sarkar</td>\n",
       "      <td>$1,500,000</td>\n",
       "      <td>Pre-seed</td>\n",
       "      <td>Sep-2021</td>\n",
       "    </tr>\n",
       "    <tr>\n",
       "      <th>422</th>\n",
       "      <td>NeuroPixel.AI</td>\n",
       "      <td>2020.0</td>\n",
       "      <td>Bangalore</td>\n",
       "      <td>Deeptech</td>\n",
       "      <td>NeuroPixel.AI Labs is a deep tech start-up tha...</td>\n",
       "      <td>NaN</td>\n",
       "      <td>Arvind Venugopal Nair, Amritendu Mukherjee</td>\n",
       "      <td>$800,000</td>\n",
       "      <td>Seed</td>\n",
       "      <td>Sep-2021</td>\n",
       "    </tr>\n",
       "    <tr>\n",
       "      <th>668</th>\n",
       "      <td>The Sleep Company</td>\n",
       "      <td>2019.0</td>\n",
       "      <td>Mumbai</td>\n",
       "      <td>Consumer Goods</td>\n",
       "      <td>Patent Pending sleep technology developed by a...</td>\n",
       "      <td>NaN</td>\n",
       "      <td>Fireside Ventures</td>\n",
       "      <td>$1,000,000</td>\n",
       "      <td>Pre-series A</td>\n",
       "      <td>Jul-2021</td>\n",
       "    </tr>\n",
       "  </tbody>\n",
       "</table>\n",
       "</div>"
      ],
      "text/plain": [
       "         Company/Brand  Founded Headquarters                 Sector  \\\n",
       "62           ByteLearn   2021.0        Noida             E-learning   \n",
       "330         PredictiVu   2020.0     Gurugram  Management Consulting   \n",
       "422      NeuroPixel.AI   2020.0    Bangalore               Deeptech   \n",
       "668  The Sleep Company   2019.0       Mumbai         Consumer Goods   \n",
       "\n",
       "                                          What it does Founder/s  \\\n",
       "62   AI powered teaching assistant for 100 Mn teach...       NaN   \n",
       "330  PredictiVu's AI-enabled dashboard integrated w...       NaN   \n",
       "422  NeuroPixel.AI Labs is a deep tech start-up tha...       NaN   \n",
       "668  Patent Pending sleep technology developed by a...       NaN   \n",
       "\n",
       "                                     Investor/s      Amount         Stage  \\\n",
       "62                Aditya Singhal, Nishant Sinha  $9,500,000          Seed   \n",
       "330                                Kunal Sarkar  $1,500,000      Pre-seed   \n",
       "422  Arvind Venugopal Nair, Amritendu Mukherjee    $800,000          Seed   \n",
       "668                           Fireside Ventures  $1,000,000  Pre-series A   \n",
       "\n",
       "        Date   \n",
       "62   Dec-2021  \n",
       "330  Sep-2021  \n",
       "422  Sep-2021  \n",
       "668  Jul-2021  "
      ]
     },
     "execution_count": 23,
     "metadata": {},
     "output_type": "execute_result"
    }
   ],
   "source": [
    "df.loc[df['Founder/s'].isnull() == True]"
   ]
  },
  {
   "cell_type": "markdown",
   "id": "6f26fe12",
   "metadata": {
    "papermill": {
     "duration": 0.05017,
     "end_time": "2022-03-04T11:12:27.470730",
     "exception": false,
     "start_time": "2022-03-04T11:12:27.420560",
     "status": "completed"
    },
    "tags": []
   },
   "source": [
    "**4 Company founders is not mention in dataset, So Google about the company and fill the null values**"
   ]
  },
  {
   "cell_type": "code",
   "execution_count": 24,
   "id": "72ce74f7",
   "metadata": {
    "execution": {
     "iopub.execute_input": "2022-03-04T11:12:27.575602Z",
     "iopub.status.busy": "2022-03-04T11:12:27.574831Z",
     "iopub.status.idle": "2022-03-04T11:12:27.590763Z",
     "shell.execute_reply": "2022-03-04T11:12:27.591303Z",
     "shell.execute_reply.started": "2022-03-04T11:09:31.432909Z"
    },
    "papermill": {
     "duration": 0.070337,
     "end_time": "2022-03-04T11:12:27.591535",
     "exception": false,
     "start_time": "2022-03-04T11:12:27.521198",
     "status": "completed"
    },
    "tags": []
   },
   "outputs": [
    {
     "data": {
      "text/html": [
       "<div>\n",
       "<style scoped>\n",
       "    .dataframe tbody tr th:only-of-type {\n",
       "        vertical-align: middle;\n",
       "    }\n",
       "\n",
       "    .dataframe tbody tr th {\n",
       "        vertical-align: top;\n",
       "    }\n",
       "\n",
       "    .dataframe thead th {\n",
       "        text-align: right;\n",
       "    }\n",
       "</style>\n",
       "<table border=\"1\" class=\"dataframe\">\n",
       "  <thead>\n",
       "    <tr style=\"text-align: right;\">\n",
       "      <th></th>\n",
       "      <th>Company/Brand</th>\n",
       "      <th>Founded</th>\n",
       "      <th>Headquarters</th>\n",
       "      <th>Sector</th>\n",
       "      <th>What it does</th>\n",
       "      <th>Founder/s</th>\n",
       "      <th>Investor/s</th>\n",
       "      <th>Amount</th>\n",
       "      <th>Stage</th>\n",
       "      <th>Date</th>\n",
       "    </tr>\n",
       "  </thead>\n",
       "  <tbody>\n",
       "  </tbody>\n",
       "</table>\n",
       "</div>"
      ],
      "text/plain": [
       "Empty DataFrame\n",
       "Columns: [Company/Brand, Founded, Headquarters, Sector, What it does, Founder/s, Investor/s, Amount, Stage, Date ]\n",
       "Index: []"
      ]
     },
     "execution_count": 24,
     "metadata": {},
     "output_type": "execute_result"
    }
   ],
   "source": [
    "df.iloc[62, 5] = 'Nishant Sinha'\n",
    "df.iloc[330, 5] = 'Manish Narang and Raja Vishal Oberoi'\n",
    "df.iloc[422, 5] = 'Arvind Nair and Amritendu Mukherjee'\n",
    "df.iloc[668, 5] = 'Priyanka Salot'\n",
    "df.loc[df['Founder/s'].isnull() == True]"
   ]
  },
  {
   "cell_type": "code",
   "execution_count": 25,
   "id": "d07d2539",
   "metadata": {
    "execution": {
     "iopub.execute_input": "2022-03-04T11:12:27.699958Z",
     "iopub.status.busy": "2022-03-04T11:12:27.699115Z",
     "iopub.status.idle": "2022-03-04T11:12:27.710627Z",
     "shell.execute_reply": "2022-03-04T11:12:27.709892Z",
     "shell.execute_reply.started": "2022-03-04T11:09:31.453393Z"
    },
    "papermill": {
     "duration": 0.067487,
     "end_time": "2022-03-04T11:12:27.710792",
     "exception": false,
     "start_time": "2022-03-04T11:12:27.643305",
     "status": "completed"
    },
    "tags": []
   },
   "outputs": [
    {
     "data": {
      "text/plain": [
       "Company/Brand      0\n",
       "Founded            0\n",
       "Headquarters       0\n",
       "Sector             0\n",
       "What it does       0\n",
       "Founder/s          0\n",
       "Investor/s        62\n",
       "Amount             0\n",
       "Stage            427\n",
       "Date               0\n",
       "dtype: int64"
      ]
     },
     "execution_count": 25,
     "metadata": {},
     "output_type": "execute_result"
    }
   ],
   "source": [
    "df.isnull().sum()"
   ]
  },
  {
   "cell_type": "markdown",
   "id": "748000f2",
   "metadata": {
    "papermill": {
     "duration": 0.050742,
     "end_time": "2022-03-04T11:12:27.823052",
     "exception": false,
     "start_time": "2022-03-04T11:12:27.772310",
     "status": "completed"
    },
    "tags": []
   },
   "source": [
    "***All the information which i added to this dataset to fill the null values are taken from \"Google\". I searched about the company and take proper information from it.***"
   ]
  },
  {
   "cell_type": "markdown",
   "id": "9124174d",
   "metadata": {
    "papermill": {
     "duration": 0.057084,
     "end_time": "2022-03-04T11:12:27.931829",
     "exception": false,
     "start_time": "2022-03-04T11:12:27.874745",
     "status": "completed"
    },
    "tags": []
   },
   "source": [
    "**Clean Most of the dataset, Now its time for EDA**"
   ]
  },
  {
   "cell_type": "markdown",
   "id": "2aa16726",
   "metadata": {
    "papermill": {
     "duration": 0.06253,
     "end_time": "2022-03-04T11:12:28.058775",
     "exception": false,
     "start_time": "2022-03-04T11:12:27.996245",
     "status": "completed"
    },
    "tags": []
   },
   "source": [
    "# **EDA [Exploratory Data Analysis]**"
   ]
  },
  {
   "cell_type": "code",
   "execution_count": 26,
   "id": "d0986069",
   "metadata": {
    "execution": {
     "iopub.execute_input": "2022-03-04T11:12:28.178055Z",
     "iopub.status.busy": "2022-03-04T11:12:28.176865Z",
     "iopub.status.idle": "2022-03-04T11:12:28.486718Z",
     "shell.execute_reply": "2022-03-04T11:12:28.487290Z",
     "shell.execute_reply.started": "2022-03-04T11:09:31.465143Z"
    },
    "papermill": {
     "duration": 0.372666,
     "end_time": "2022-03-04T11:12:28.487524",
     "exception": false,
     "start_time": "2022-03-04T11:12:28.114858",
     "status": "completed"
    },
    "tags": []
   },
   "outputs": [
    {
     "data": {
      "image/png": "[encoded data removed]",
      "text/plain": [
       "<Figure size 720x576 with 1 Axes>"
      ]
     },
     "metadata": {
      "needs_background": "light"
     },
     "output_type": "display_data"
    }
   ],
   "source": [
    "#Top 10 Sectors for Startups\n",
    "sector = df['Sector'].value_counts().sort_values(ascending = False)\n",
    "a = sector.head(10)\n",
    "\n",
    "plt.figure(figsize = (10,8))\n",
    "ax = sns.barplot(x = a, y = a.index)\n",
    "ax.bar_label(ax.containers[0])\n",
    "\n",
    "plt.title('Top 10 Sectors for Startups')\n",
    "plt.show()"
   ]
  },
  {
   "cell_type": "code",
   "execution_count": 27,
   "id": "fa125bb3",
   "metadata": {
    "execution": {
     "iopub.execute_input": "2022-03-04T11:12:28.623104Z",
     "iopub.status.busy": "2022-03-04T11:12:28.621949Z",
     "iopub.status.idle": "2022-03-04T11:12:28.921144Z",
     "shell.execute_reply": "2022-03-04T11:12:28.921745Z",
     "shell.execute_reply.started": "2022-03-04T11:09:31.829148Z"
    },
    "papermill": {
     "duration": 0.374107,
     "end_time": "2022-03-04T11:12:28.921977",
     "exception": false,
     "start_time": "2022-03-04T11:12:28.547870",
     "status": "completed"
    },
    "tags": []
   },
   "outputs": [
    {
     "data": {
      "image/png": "[encoded data removed]",
      "text/plain": [
       "<Figure size 720x576 with 1 Axes>"
      ]
     },
     "metadata": {
      "needs_background": "light"
     },
     "output_type": "display_data"
    }
   ],
   "source": [
    "# Top 10 Cities for Startups\n",
    "sector = df['Headquarters'].value_counts().sort_values(ascending = False)\n",
    "a = sector.head(10)\n",
    "\n",
    "plt.figure(figsize = (10,8))\n",
    "ax = sns.barplot(x = a, y = a.index)\n",
    "ax.bar_label(ax.containers[0])\n",
    "\n",
    "plt.title('Top 10 Cities for Startups')\n",
    "plt.show()"
   ]
  },
  {
   "cell_type": "code",
   "execution_count": 28,
   "id": "d2058b48",
   "metadata": {
    "execution": {
     "iopub.execute_input": "2022-03-04T11:12:29.045416Z",
     "iopub.status.busy": "2022-03-04T11:12:29.044575Z",
     "iopub.status.idle": "2022-03-04T11:12:29.343152Z",
     "shell.execute_reply": "2022-03-04T11:12:29.342364Z",
     "shell.execute_reply.started": "2022-03-04T11:09:32.185149Z"
    },
    "papermill": {
     "duration": 0.363692,
     "end_time": "2022-03-04T11:12:29.343350",
     "exception": false,
     "start_time": "2022-03-04T11:12:28.979658",
     "status": "completed"
    },
    "tags": []
   },
   "outputs": [
    {
     "data": {
      "image/png": "[encoded data removed]",
      "text/plain": [
       "<Figure size 432x288 with 1 Axes>"
      ]
     },
     "metadata": {
      "needs_background": "light"
     },
     "output_type": "display_data"
    }
   ],
   "source": [
    "a = df['Founded'].value_counts().head(10).plot.barh()\n",
    "a.bar_label(a.containers[0])\n",
    "plt.title('Top 10 Year')\n",
    "plt.show()"
   ]
  },
  {
   "cell_type": "code",
   "execution_count": 29,
   "id": "29902a26",
   "metadata": {
    "execution": {
     "iopub.execute_input": "2022-03-04T11:12:29.468814Z",
     "iopub.status.busy": "2022-03-04T11:12:29.467689Z",
     "iopub.status.idle": "2022-03-04T11:12:29.768762Z",
     "shell.execute_reply": "2022-03-04T11:12:29.769325Z",
     "shell.execute_reply.started": "2022-03-04T11:09:32.477418Z"
    },
    "papermill": {
     "duration": 0.365933,
     "end_time": "2022-03-04T11:12:29.769560",
     "exception": false,
     "start_time": "2022-03-04T11:12:29.403627",
     "status": "completed"
    },
    "tags": []
   },
   "outputs": [
    {
     "data": {
      "image/png": "[encoded data removed]",
      "text/plain": [
       "<Figure size 432x288 with 1 Axes>"
      ]
     },
     "metadata": {
      "needs_background": "light"
     },
     "output_type": "display_data"
    }
   ],
   "source": [
    "a = df.groupby(['Founder/s']).size()\n",
    "b = a.head(10).plot.barh()\n",
    "b.bar_label(b.containers[0])\n",
    "plt.title('Most Startups start by a Founder')\n",
    "plt.show()"
   ]
  },
  {
   "cell_type": "code",
   "execution_count": 30,
   "id": "904de81d",
   "metadata": {
    "execution": {
     "iopub.execute_input": "2022-03-04T11:12:29.886671Z",
     "iopub.status.busy": "2022-03-04T11:12:29.885573Z",
     "iopub.status.idle": "2022-03-04T11:12:30.153764Z",
     "shell.execute_reply": "2022-03-04T11:12:30.154312Z",
     "shell.execute_reply.started": "2022-03-04T11:09:32.819931Z"
    },
    "papermill": {
     "duration": 0.329244,
     "end_time": "2022-03-04T11:12:30.154544",
     "exception": false,
     "start_time": "2022-03-04T11:12:29.825300",
     "status": "completed"
    },
    "tags": []
   },
   "outputs": [
    {
     "data": {
      "image/png": "[encoded data removed]",
      "text/plain": [
       "<Figure size 432x288 with 1 Axes>"
      ]
     },
     "metadata": {
      "needs_background": "light"
     },
     "output_type": "display_data"
    }
   ],
   "source": [
    "a = df['Stage'].value_counts().head(10).plot.barh(color='maroon')\n",
    "a.bar_label(a.containers[0])\n",
    "plt.title('Top 10 Stage')\n",
    "plt.show()"
   ]
  },
  {
   "cell_type": "markdown",
   "id": "79c970ad",
   "metadata": {
    "papermill": {
     "duration": 0.057046,
     "end_time": "2022-03-04T11:12:30.268354",
     "exception": false,
     "start_time": "2022-03-04T11:12:30.211308",
     "status": "completed"
    },
    "tags": []
   },
   "source": [
    "* **Most Startups are done in Fintech and EdTech Sector**\n",
    "* **Top city for startup is Bangalore**\n",
    "* **Most startups are Founded in 2020**\n",
    "* **In whole dataset only 2 person have started two startups which are \"Aadit Palilcha and Kalvalya Vohra\"**\n",
    "* **Seed is top in stage in database**"
   ]
  },
  {
   "cell_type": "markdown",
   "id": "651780c1",
   "metadata": {
    "papermill": {
     "duration": 0.057284,
     "end_time": "2022-03-04T11:12:30.382859",
     "exception": false,
     "start_time": "2022-03-04T11:12:30.325575",
     "status": "completed"
    },
    "tags": []
   },
   "source": [
    "**According to Google Bangalore is hub of technology and many IT companies are located in bangalore, so bangalore is top of the list in cities. Second people and youngster are motivated to start own business thisdays in 2020**"
   ]
  },
  {
   "cell_type": "markdown",
   "id": "d7ff32ce",
   "metadata": {
    "papermill": {
     "duration": 0.056605,
     "end_time": "2022-03-04T11:12:30.496585",
     "exception": false,
     "start_time": "2022-03-04T11:12:30.439980",
     "status": "completed"
    },
    "tags": []
   },
   "source": [
    "# Up Vote\n",
    "**First, Thanks for visitig my notebook, Second if you like this notebook, Please UP VOTE. I will update this notebook regularly.**"
   ]
  }
 ],
 "metadata": {
  "kernelspec": {
   "display_name": "Python 3",
   "language": "python",
   "name": "python3"
  },
  "language_info": {
   "codemirror_mode": {
    "name": "ipython",
    "version": 3
   },
   "file_extension": ".py",
   "mimetype": "text/x-python",
   "name": "python",
   "nbconvert_exporter": "python",
   "pygments_lexer": "ipython3",
   "version": "3.7.12"
  },
  "papermill": {
   "default_parameters": {},
   "duration": 20.599374,
   "end_time": "2022-03-04T11:12:31.669469",
   "environment_variables": {},
   "exception": null,
   "input_path": "__notebook__.ipynb",
   "output_path": "__notebook__.ipynb",
   "parameters": {},
   "start_time": "2022-03-04T11:12:11.070095",
   "version": "2.3.3"
  }
 },
 "nbformat": 4,
 "nbformat_minor": 5
}
